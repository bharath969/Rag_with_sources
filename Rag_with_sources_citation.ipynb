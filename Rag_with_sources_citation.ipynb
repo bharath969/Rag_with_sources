{
 "cells": [
  {
   "cell_type": "markdown",
   "id": "6ab3a878",
   "metadata": {},
   "source": [
    "## <h2 style=\"color:blue;text-align:center;\"><strong>Document Retriver Search Engine</strong></h2>"
   ]
  },
  {
   "cell_type": "markdown",
   "id": "ba4c76fc",
   "metadata": {},
   "source": [
    "Here the data comes form multiple sources (JSON and PDFS)"
   ]
  },
  {
   "cell_type": "markdown",
   "id": "e299d8c8",
   "metadata": {},
   "source": [
    "## Setting Up Environment Variables"
   ]
  },
  {
   "cell_type": "code",
   "execution_count": 1,
   "id": "73569677",
   "metadata": {},
   "outputs": [],
   "source": [
    "import os\n",
    "from dotenv import load_dotenv\n",
    "load_dotenv()\n",
    "\n",
    "os.environ[\"openai_api_key\"]=os.getenv(\"openai_api_key\")"
   ]
  },
  {
   "cell_type": "markdown",
   "id": "0f00e115",
   "metadata": {},
   "source": [
    "## Data Ingestion"
   ]
  },
  {
   "cell_type": "markdown",
   "id": "46f9a20a",
   "metadata": {},
   "source": [
    "### Download the Dataset"
   ]
  },
  {
   "cell_type": "code",
   "execution_count": 2,
   "id": "f1ade2e8",
   "metadata": {},
   "outputs": [],
   "source": [
    "# if you can't download using the following code\n",
    "# go to https://drive.google.com/file/d/1aZxZejfteVuofISodUrY2CDoyuPLYDGZ download it\n",
    "# manually upload it on colab\n",
    "# !gdown 1aZxZejfteVuofISodUrY2CDoyuPLYDGZ\n",
    "\n",
    "# Uncomment the above to download and unzip the data"
   ]
  },
  {
   "cell_type": "markdown",
   "id": "7a2716c3",
   "metadata": {},
   "source": [
    "### Load the Json Data"
   ]
  },
  {
   "cell_type": "code",
   "execution_count": 3,
   "id": "75ee2aed",
   "metadata": {},
   "outputs": [],
   "source": [
    "from langchain.document_loaders import JSONLoader\n",
    "\n",
    "loader=JSONLoader(\n",
    "    file_path=\"./rag_docs/wikidata_rag_demo.jsonl\",\n",
    "    jq_schema=\".\",\n",
    "    text_content=False,\n",
    "    json_lines=True)\n",
    "wiki_docs = loader.load()"
   ]
  },
  {
   "cell_type": "code",
   "execution_count": 4,
   "id": "d7537aca",
   "metadata": {},
   "outputs": [
    {
     "data": {
      "text/plain": [
       "[Document(metadata={'source': 'C:\\\\Studies\\\\projects_bkr\\\\learn\\\\Analytics Vidya\\\\RAG\\\\Mini Projects\\\\Project_01\\\\rag_docs\\\\wikidata_rag_demo.jsonl', 'seq_num': 1}, page_content='{\"id\": \"84801\", \"title\": \"Chinese New Year\", \"paragraphs\": [\"Chinese New Year, known in China as the SpringFestival and in Singapore as the LunarNewYear, is a holiday on and around the new moon on the first day of the year in the traditional Chinese calendar. This calendar is based on the changes in the moon and is only sometimes changed to fit the seasons of the year based on how the Earth moves around the sun. Because of this, Chinese New Year is never on January1. It moves around between January21 and February20.\", \"The Chinese New Year is of the most important holidays for Chinese people all over the world. Its 7th day used to be used instead of birthdays to count people\\'s ages in China. The holiday is still used to tell people which \\\\\"animal\\\\\" of the Chinese zodiac they are part of. The holiday is a time for gifts to children and for family gatherings with large meals, just like Christmas in Europe and in other Christian areas. Unlike Christmas, the children usually get gifts of cash in red envelopes (\\\\\"hongbao\\\\\") and not toys or clothes.\", \"Chinese New Year used to last 15 days until the Lantern Festival on the year\\'s first full moon. Now, it is a national holiday in the Republic and People\\'s Republic of China, the Philippines, Singapore, Malaysia, Brunei, and Indonesia. It is also celebrated in some parts of Thailand. In some places, only the first day or three days are celebrated. In the PRC, nearby weekends are changed to create a 7-day-long \\\\\"Golden Week\\\\\".\"]}'),\n",
       " Document(metadata={'source': 'C:\\\\Studies\\\\projects_bkr\\\\learn\\\\Analytics Vidya\\\\RAG\\\\Mini Projects\\\\Project_01\\\\rag_docs\\\\wikidata_rag_demo.jsonl', 'seq_num': 2}, page_content='{\"id\": \"86394\", \"title\": \"Dattatreya\", \"paragraphs\": [\"Dattatreya is the God who is an incarnation of the Divine Trinity Brahma, Vishnu and Siva. The word Datta means \\\\\"Given\\\\\", Datta is called so because the divine trinity have \\\\\"given\\\\\" themselves in the form of a son to the sage couple Guru Atri and Mata Anusuya. He is the son of Guru Atri, hence the name \\\\\"Atreya.\\\\\"\", \"In the Nath tradition, Dattatreya is seen as an Avatar or incarnation of the Lord Shiva and as the Adi-Guru (First Teacher) of the Adi-Nath sampradaya of the Nathas. Although Dattatreya was at first a \\\\\"Lord of Yoga\\\\\" with Tantric traits, he was adapted and assimilated into the more devotional cults; while still worshiped by millions of Hindus, he is approached more as a benevolent God than as a teacher of the highest essence of Indian thought.\", \"Though the Dattatreya of the Natha tradition coexisted and intermingled with the Puranic, Brahmanical tradition of the Datta sampradaya, here we shall focus almost exclusively on the earlier Tantric manifestation of Datta. Shri Gurudev Mahendranath had no doubt that Dattatreya was an historical figure. He stated that Datta was born on Wednesday, the fourteenth day of the full moon in the month of Margasirsa, though he does not mention the year.\"]}')]"
      ]
     },
     "execution_count": 4,
     "metadata": {},
     "output_type": "execute_result"
    }
   ],
   "source": [
    "wiki_docs[:2]"
   ]
  },
  {
   "cell_type": "code",
   "execution_count": 5,
   "id": "10adf404",
   "metadata": {},
   "outputs": [
    {
     "data": {
      "text/plain": [
       "1801"
      ]
     },
     "execution_count": 5,
     "metadata": {},
     "output_type": "execute_result"
    }
   ],
   "source": [
    "len(wiki_docs)"
   ]
  },
  {
   "cell_type": "code",
   "execution_count": 6,
   "id": "bf27f775",
   "metadata": {},
   "outputs": [
    {
     "data": {
      "text/plain": [
       "'\\nDocument(\\n    page_content=\"Chinese New Year, known in China as the Spring Festival ...\",\\n    metadata={\\n        \"title\": \"Chinese New Year\",\\n        \"id\": \"84801\",\\n        \"source\": \"Wikipedia\"\\n    }\\n)\\n'"
      ]
     },
     "execution_count": 6,
     "metadata": {},
     "output_type": "execute_result"
    }
   ],
   "source": [
    "# The document should be in this format as the embedding model \n",
    "# expects only natural language in pagecontent\n",
    "\"\"\"\n",
    "Document(\n",
    "    page_content=\"Chinese New Year, known in China as the Spring Festival ...\",\n",
    "    metadata={\n",
    "        \"title\": \"Chinese New Year\",\n",
    "        \"id\": \"84801\",\n",
    "        \"source\": \"Wikipedia\"\n",
    "    }\n",
    ")\n",
    "\"\"\""
   ]
  },
  {
   "cell_type": "code",
   "execution_count": 7,
   "id": "789afee0",
   "metadata": {},
   "outputs": [
    {
     "data": {
      "text/plain": [
       "langchain_core.documents.base.Document"
      ]
     },
     "execution_count": 7,
     "metadata": {},
     "output_type": "execute_result"
    }
   ],
   "source": [
    "type(wiki_docs[0])"
   ]
  },
  {
   "cell_type": "code",
   "execution_count": 8,
   "id": "2213d0fb",
   "metadata": {},
   "outputs": [],
   "source": [
    "# Changing the document format\n",
    "from langchain.docstore.document import Document\n",
    "import json\n",
    "\n",
    "wiki_docs_processed=[]\n",
    "\n",
    "for doc in wiki_docs:\n",
    "    doc=json.loads(doc.page_content)\n",
    "    metadata={\n",
    "        \"title\":doc[\"title\"],\n",
    "        \"id\":doc[\"id\"],\n",
    "        \"source\":\"Wikipedia\"        \n",
    "    }\n",
    "    data=\" \".join(doc[\"paragraphs\"])\n",
    "    \n",
    "    wiki_docs_processed.append(Document(\n",
    "        metadata=metadata,\n",
    "        page_content=data\n",
    "    ))"
   ]
  },
  {
   "cell_type": "code",
   "execution_count": 9,
   "id": "da86700b",
   "metadata": {},
   "outputs": [
    {
     "data": {
      "text/plain": [
       "[Document(metadata={'title': 'Chinese New Year', 'id': '84801', 'source': 'Wikipedia'}, page_content='Chinese New Year, known in China as the SpringFestival and in Singapore as the LunarNewYear, is a holiday on and around the new moon on the first day of the year in the traditional Chinese calendar. This calendar is based on the changes in the moon and is only sometimes changed to fit the seasons of the year based on how the Earth moves around the sun. Because of this, Chinese New Year is never on January1. It moves around between January21 and February20. The Chinese New Year is of the most important holidays for Chinese people all over the world. Its 7th day used to be used instead of birthdays to count people\\'s ages in China. The holiday is still used to tell people which \"animal\" of the Chinese zodiac they are part of. The holiday is a time for gifts to children and for family gatherings with large meals, just like Christmas in Europe and in other Christian areas. Unlike Christmas, the children usually get gifts of cash in red envelopes (\"hongbao\") and not toys or clothes. Chinese New Year used to last 15 days until the Lantern Festival on the year\\'s first full moon. Now, it is a national holiday in the Republic and People\\'s Republic of China, the Philippines, Singapore, Malaysia, Brunei, and Indonesia. It is also celebrated in some parts of Thailand. In some places, only the first day or three days are celebrated. In the PRC, nearby weekends are changed to create a 7-day-long \"Golden Week\".'),\n",
       " Document(metadata={'title': 'Dattatreya', 'id': '86394', 'source': 'Wikipedia'}, page_content='Dattatreya is the God who is an incarnation of the Divine Trinity Brahma, Vishnu and Siva. The word Datta means \"Given\", Datta is called so because the divine trinity have \"given\" themselves in the form of a son to the sage couple Guru Atri and Mata Anusuya. He is the son of Guru Atri, hence the name \"Atreya.\" In the Nath tradition, Dattatreya is seen as an Avatar or incarnation of the Lord Shiva and as the Adi-Guru (First Teacher) of the Adi-Nath sampradaya of the Nathas. Although Dattatreya was at first a \"Lord of Yoga\" with Tantric traits, he was adapted and assimilated into the more devotional cults; while still worshiped by millions of Hindus, he is approached more as a benevolent God than as a teacher of the highest essence of Indian thought. Though the Dattatreya of the Natha tradition coexisted and intermingled with the Puranic, Brahmanical tradition of the Datta sampradaya, here we shall focus almost exclusively on the earlier Tantric manifestation of Datta. Shri Gurudev Mahendranath had no doubt that Dattatreya was an historical figure. He stated that Datta was born on Wednesday, the fourteenth day of the full moon in the month of Margasirsa, though he does not mention the year.')]"
      ]
     },
     "execution_count": 9,
     "metadata": {},
     "output_type": "execute_result"
    }
   ],
   "source": [
    "wiki_docs_processed[:2]"
   ]
  },
  {
   "cell_type": "markdown",
   "id": "b2b44f05",
   "metadata": {},
   "source": [
    "### Load the data from PDFS"
   ]
  },
  {
   "cell_type": "code",
   "execution_count": 10,
   "id": "8cf43dc3",
   "metadata": {},
   "outputs": [
    {
     "data": {
      "text/plain": [
       "['./rag_docs\\\\attention_paper.pdf',\n",
       " './rag_docs\\\\cnn_paper.pdf',\n",
       " './rag_docs\\\\resnet_paper.pdf',\n",
       " './rag_docs\\\\vision_transformer.pdf']"
      ]
     },
     "execution_count": 10,
     "metadata": {},
     "output_type": "execute_result"
    }
   ],
   "source": [
    "import glob\n",
    "pdf_files=glob.glob(\"./rag_docs/*.pdf\")\n",
    "pdf_files\n",
    "\n"
   ]
  },
  {
   "cell_type": "code",
   "execution_count": 11,
   "id": "e694b485",
   "metadata": {},
   "outputs": [],
   "source": [
    "from langchain.document_loaders import PyMuPDFLoader\n",
    "from langchain.text_splitter import RecursiveCharacterTextSplitter\n",
    "\n",
    "def get_chunks(pdf_path):\n",
    "    \"\"\"\n",
    "    Loads a PDF file and splits it into smaller text chunks.\n",
    "    \n",
    "    Args:\n",
    "        pdf_path (str): Path to the PDF file.\n",
    "    \n",
    "    Returns:\n",
    "        list: List of LangChain Document chunks.\n",
    "    \"\"\"\n",
    "    print(f\"Reading PDF: {pdf_path}\")\n",
    "    \n",
    "    # Load PDF\n",
    "    loader = PyMuPDFLoader(pdf_path)\n",
    "    docs = loader.load()\n",
    "    print(f\"Loaded {len(docs)} pages from {pdf_path}\")\n",
    "    \n",
    "    # Split into chunks\n",
    "    splitter = RecursiveCharacterTextSplitter(\n",
    "        chunk_size=3500,\n",
    "        chunk_overlap=200,   # small overlap improves context retention\n",
    "        separators=[\"\\n\\n\", \"\\n\", \" \", \"\"]\n",
    "    )\n",
    "    doc_chunks = splitter.split_documents(docs)\n",
    "    \n",
    "    print(f\"Created {len(doc_chunks)} chunks from {pdf_path}\")\n",
    "    print()\n",
    "    return doc_chunks\n"
   ]
  },
  {
   "cell_type": "code",
   "execution_count": 12,
   "id": "23e03671",
   "metadata": {},
   "outputs": [
    {
     "name": "stdout",
     "output_type": "stream",
     "text": [
      "Reading PDF: ./rag_docs\\attention_paper.pdf\n",
      "Loaded 15 pages from ./rag_docs\\attention_paper.pdf\n",
      "Created 16 chunks from ./rag_docs\\attention_paper.pdf\n",
      "\n",
      "Reading PDF: ./rag_docs\\cnn_paper.pdf\n",
      "Loaded 11 pages from ./rag_docs\\cnn_paper.pdf\n",
      "Created 11 chunks from ./rag_docs\\cnn_paper.pdf\n",
      "\n",
      "Reading PDF: ./rag_docs\\resnet_paper.pdf\n",
      "Loaded 12 pages from ./rag_docs\\resnet_paper.pdf\n",
      "Created 24 chunks from ./rag_docs\\resnet_paper.pdf\n",
      "\n",
      "Reading PDF: ./rag_docs\\vision_transformer.pdf\n",
      "Loaded 22 pages from ./rag_docs\\vision_transformer.pdf\n",
      "Created 28 chunks from ./rag_docs\\vision_transformer.pdf\n",
      "\n"
     ]
    }
   ],
   "source": [
    "paper_docs = []\n",
    "for fp in pdf_files:\n",
    "    paper_docs.extend(get_chunks(fp))\n"
   ]
  },
  {
   "cell_type": "code",
   "execution_count": 13,
   "id": "6e117da3",
   "metadata": {},
   "outputs": [
    {
     "data": {
      "text/plain": [
       "79"
      ]
     },
     "execution_count": 13,
     "metadata": {},
     "output_type": "execute_result"
    }
   ],
   "source": [
    "len(paper_docs)"
   ]
  },
  {
   "cell_type": "code",
   "execution_count": 14,
   "id": "d6697135",
   "metadata": {},
   "outputs": [
    {
     "data": {
      "text/plain": [
       "Document(metadata={'producer': 'pdfTeX-1.40.25', 'creator': 'LaTeX with hyperref', 'creationdate': '2023-08-03T00:07:29+00:00', 'source': './rag_docs\\\\attention_paper.pdf', 'file_path': './rag_docs\\\\attention_paper.pdf', 'total_pages': 15, 'format': 'PDF 1.5', 'title': '', 'author': '', 'subject': '', 'keywords': '', 'moddate': '2023-08-03T00:07:29+00:00', 'trapped': '', 'modDate': 'D:20230803000729Z', 'creationDate': 'D:20230803000729Z', 'page': 0}, page_content='Provided proper attribution is provided, Google hereby grants permission to\\nreproduce the tables and figures in this paper solely for use in journalistic or\\nscholarly works.\\nAttention Is All You Need\\nAshish Vaswani∗\\nGoogle Brain\\navaswani@google.com\\nNoam Shazeer∗\\nGoogle Brain\\nnoam@google.com\\nNiki Parmar∗\\nGoogle Research\\nnikip@google.com\\nJakob Uszkoreit∗\\nGoogle Research\\nusz@google.com\\nLlion Jones∗\\nGoogle Research\\nllion@google.com\\nAidan N. Gomez∗†\\nUniversity of Toronto\\naidan@cs.toronto.edu\\nŁukasz Kaiser∗\\nGoogle Brain\\nlukaszkaiser@google.com\\nIllia Polosukhin∗‡\\nillia.polosukhin@gmail.com\\nAbstract\\nThe dominant sequence transduction models are based on complex recurrent or\\nconvolutional neural networks that include an encoder and a decoder. The best\\nperforming models also connect the encoder and decoder through an attention\\nmechanism. We propose a new simple network architecture, the Transformer,\\nbased solely on attention mechanisms, dispensing with recurrence and convolutions\\nentirely. Experiments on two machine translation tasks show these models to\\nbe superior in quality while being more parallelizable and requiring significantly\\nless time to train. Our model achieves 28.4 BLEU on the WMT 2014 English-\\nto-German translation task, improving over the existing best results, including\\nensembles, by over 2 BLEU. On the WMT 2014 English-to-French translation task,\\nour model establishes a new single-model state-of-the-art BLEU score of 41.8 after\\ntraining for 3.5 days on eight GPUs, a small fraction of the training costs of the\\nbest models from the literature. We show that the Transformer generalizes well to\\nother tasks by applying it successfully to English constituency parsing both with\\nlarge and limited training data.\\n∗Equal contribution. Listing order is random. Jakob proposed replacing RNNs with self-attention and started\\nthe effort to evaluate this idea. Ashish, with Illia, designed and implemented the first Transformer models and\\nhas been crucially involved in every aspect of this work. Noam proposed scaled dot-product attention, multi-head\\nattention and the parameter-free position representation and became the other person involved in nearly every\\ndetail. Niki designed, implemented, tuned and evaluated countless model variants in our original codebase and\\ntensor2tensor. Llion also experimented with novel model variants, was responsible for our initial codebase, and\\nefficient inference and visualizations. Lukasz and Aidan spent countless long days designing various parts of and\\nimplementing tensor2tensor, replacing our earlier codebase, greatly improving results and massively accelerating\\nour research.\\n†Work performed while at Google Brain.\\n‡Work performed while at Google Research.\\n31st Conference on Neural Information Processing Systems (NIPS 2017), Long Beach, CA, USA.\\narXiv:1706.03762v7  [cs.CL]  2 Aug 2023')"
      ]
     },
     "execution_count": 14,
     "metadata": {},
     "output_type": "execute_result"
    }
   ],
   "source": [
    "paper_docs[0]"
   ]
  },
  {
   "cell_type": "code",
   "execution_count": 15,
   "id": "10b59461",
   "metadata": {},
   "outputs": [
    {
     "data": {
      "text/plain": [
       "1880"
      ]
     },
     "execution_count": 15,
     "metadata": {},
     "output_type": "execute_result"
    }
   ],
   "source": [
    "total_docs = wiki_docs_processed + paper_docs\n",
    "len(total_docs)"
   ]
  },
  {
   "cell_type": "markdown",
   "id": "d8c5483c",
   "metadata": {},
   "source": [
    "## Vector Databases\n",
    "\n",
    "One of the most common ways to store and search over unstructured data is to embed it and store the resulting embedding vectors, and then at query time to embed the unstructured query and retrieve the embedding vectors that are 'most similar' to the embedded query. A vector database takes care of storing embedded data and performing vector search for you.\n",
    "\n",
    "### Chroma Vector DB\n",
    "\n",
    "[Chroma](https://docs.trychroma.com/getting-started) is a AI-native open-source vector database focused on developer productivity and happiness. Chroma is licensed under Apache 2.0."
   ]
  },
  {
   "cell_type": "code",
   "execution_count": 16,
   "id": "81d0e39d",
   "metadata": {},
   "outputs": [],
   "source": [
    "from langchain_openai import OpenAIEmbeddings\n",
    "\n",
    "# details here: https://openai.com/blog/new-embedding-models-and-api-updates\n",
    "openai_embed_model = OpenAIEmbeddings(model='text-embedding-3-small')"
   ]
  },
  {
   "cell_type": "code",
   "execution_count": 17,
   "id": "2ab01ecb",
   "metadata": {},
   "outputs": [],
   "source": [
    "from langchain_chroma import Chroma\n",
    "\n",
    "# create vector DB of docs and embeddings - takes < 30s on Colab\n",
    "chroma_db = Chroma.from_documents(documents=total_docs,\n",
    "                                  collection_name='my_db',\n",
    "                                  embedding=openai_embed_model,\n",
    "                                  # need to set the distance function to cosine else it uses euclidean by default\n",
    "                                  # check https://docs.trychroma.com/guides#changing-the-distance-function\n",
    "                                  collection_metadata={\"hnsw:space\": \"cosine\"},\n",
    "                                  persist_directory=\"./my_db\")"
   ]
  },
  {
   "cell_type": "markdown",
   "id": "3f7fde54",
   "metadata": {},
   "source": [
    "### Load Vector DB from disk\n",
    "\n",
    "Once have a vector database on disk you can just load and create a connection to it anytime"
   ]
  },
  {
   "cell_type": "code",
   "execution_count": 18,
   "id": "bc529226",
   "metadata": {},
   "outputs": [],
   "source": [
    "chroma_db=Chroma(\n",
    "    collection_name=\"my_db\",\n",
    "    embedding_function=openai_embed_model,\n",
    "    persist_directory=\"./my_db\"\n",
    "    \n",
    ")"
   ]
  },
  {
   "cell_type": "markdown",
   "id": "3c056a10",
   "metadata": {},
   "source": [
    "##  Vector Database Retrievers\n",
    "\n",
    "Here we will explore the following retrieval strategies on our Vector Database:\n",
    "\n",
    "- Similarity or Ranking based Retrieval\n",
    "- Multi Query Retrieval\n",
    "- Contextual Compression Retrieval\n",
    "- Chained Retrieval Pipeline"
   ]
  },
  {
   "cell_type": "markdown",
   "id": "645fe783",
   "metadata": {},
   "source": [
    "### Similarity or Ranking based Retrieval\n",
    "\n",
    "We use cosine similarity here and retrieve the top 5 similar documents based on the user input query"
   ]
  },
  {
   "cell_type": "code",
   "execution_count": 19,
   "id": "007f7b52",
   "metadata": {},
   "outputs": [],
   "source": [
    "similarity_retriever = chroma_db.as_retriever(search_type=\"similarity\",\n",
    "                                              search_kwargs={\"k\": 3})"
   ]
  },
  {
   "cell_type": "code",
   "execution_count": 20,
   "id": "9f77fc73",
   "metadata": {},
   "outputs": [],
   "source": [
    "from IPython.display import display, Markdown\n",
    "\n",
    "def display_docs(docs):\n",
    "    for doc in docs:\n",
    "        print('Metadata:', doc.metadata)\n",
    "        print('Content Brief:')\n",
    "        display(Markdown(doc.page_content[:1000]))\n",
    "        print()"
   ]
  },
  {
   "cell_type": "code",
   "execution_count": 21,
   "id": "a8b6cd4a",
   "metadata": {},
   "outputs": [
    {
     "name": "stdout",
     "output_type": "stream",
     "text": [
      "Metadata: {'title': 'Machine learning', 'id': '564928', 'source': 'Wikipedia'}\n",
      "Content Brief:\n"
     ]
    },
    {
     "data": {
      "text/markdown": [
       "Machine learning gives computers the ability to learn without being explicitly programmed (Arthur Samuel, 1959). It is a subfield of computer science. The idea came from work in artificial intelligence. Machine learning explores the study and construction of algorithms which can learn and make predictions on data. Such algorithms follow programmed instructions, but can also make predictions or decisions based on data. They build a model from sample inputs. Machine learning is done where designing and programming explicit algorithms cannot be done. Examples include spam filtering, detection of network intruders or malicious insiders working towards a data breach, optical character recognition (OCR), search engines and computer vision."
      ],
      "text/plain": [
       "<IPython.core.display.Markdown object>"
      ]
     },
     "metadata": {},
     "output_type": "display_data"
    },
    {
     "name": "stdout",
     "output_type": "stream",
     "text": [
      "\n",
      "Metadata: {'title': 'Machine learning', 'id': '564928', 'source': 'Wikipedia'}\n",
      "Content Brief:\n"
     ]
    },
    {
     "data": {
      "text/markdown": [
       "Machine learning gives computers the ability to learn without being explicitly programmed (Arthur Samuel, 1959). It is a subfield of computer science. The idea came from work in artificial intelligence. Machine learning explores the study and construction of algorithms which can learn and make predictions on data. Such algorithms follow programmed instructions, but can also make predictions or decisions based on data. They build a model from sample inputs. Machine learning is done where designing and programming explicit algorithms cannot be done. Examples include spam filtering, detection of network intruders or malicious insiders working towards a data breach, optical character recognition (OCR), search engines and computer vision."
      ],
      "text/plain": [
       "<IPython.core.display.Markdown object>"
      ]
     },
     "metadata": {},
     "output_type": "display_data"
    },
    {
     "name": "stdout",
     "output_type": "stream",
     "text": [
      "\n",
      "Metadata: {'source': 'Wikipedia', 'id': '564928', 'title': 'Machine learning'}\n",
      "Content Brief:\n"
     ]
    },
    {
     "data": {
      "text/markdown": [
       "Machine learning gives computers the ability to learn without being explicitly programmed (Arthur Samuel, 1959). It is a subfield of computer science. The idea came from work in artificial intelligence. Machine learning explores the study and construction of algorithms which can learn and make predictions on data. Such algorithms follow programmed instructions, but can also make predictions or decisions based on data. They build a model from sample inputs. Machine learning is done where designing and programming explicit algorithms cannot be done. Examples include spam filtering, detection of network intruders or malicious insiders working towards a data breach, optical character recognition (OCR), search engines and computer vision."
      ],
      "text/plain": [
       "<IPython.core.display.Markdown object>"
      ]
     },
     "metadata": {},
     "output_type": "display_data"
    },
    {
     "name": "stdout",
     "output_type": "stream",
     "text": [
      "\n"
     ]
    }
   ],
   "source": [
    "query = \"what is machine learning?\"\n",
    "top_docs = similarity_retriever.invoke(query)\n",
    "display_docs(top_docs)"
   ]
  },
  {
   "cell_type": "code",
   "execution_count": 22,
   "id": "c3e93b3a",
   "metadata": {},
   "outputs": [
    {
     "name": "stdout",
     "output_type": "stream",
     "text": [
      "Metadata: {'source': 'Wikipedia', 'title': 'Neurolinguistic programming', 'id': '335464'}\n",
      "Content Brief:\n"
     ]
    },
    {
     "data": {
      "text/markdown": [
       "Neurolinguistic programming is a way of communicating, created in the 1970s. It is often shortened to \"NLP\". The discipline assumes there is a link between neurological processes, language and behavior. According to NLP, it is possible to achieve certain goals in life by changing one's behaviour. Certain neuroscientists psychologists and linguists, believe that NLP is unsupported by current scientific evidence and that it uses incorrect and misleading terms and concepts. NLP was invented by Richard Bandler and John Grinder. According to these people, NLP can help solve problems such as phobias, depression, habit disorder, psychosomatic illnesses, and learning disorders."
      ],
      "text/plain": [
       "<IPython.core.display.Markdown object>"
      ]
     },
     "metadata": {},
     "output_type": "display_data"
    },
    {
     "name": "stdout",
     "output_type": "stream",
     "text": [
      "\n",
      "Metadata: {'source': 'Wikipedia', 'title': 'Neurolinguistic programming', 'id': '335464'}\n",
      "Content Brief:\n"
     ]
    },
    {
     "data": {
      "text/markdown": [
       "Neurolinguistic programming is a way of communicating, created in the 1970s. It is often shortened to \"NLP\". The discipline assumes there is a link between neurological processes, language and behavior. According to NLP, it is possible to achieve certain goals in life by changing one's behaviour. Certain neuroscientists psychologists and linguists, believe that NLP is unsupported by current scientific evidence and that it uses incorrect and misleading terms and concepts. NLP was invented by Richard Bandler and John Grinder. According to these people, NLP can help solve problems such as phobias, depression, habit disorder, psychosomatic illnesses, and learning disorders."
      ],
      "text/plain": [
       "<IPython.core.display.Markdown object>"
      ]
     },
     "metadata": {},
     "output_type": "display_data"
    },
    {
     "name": "stdout",
     "output_type": "stream",
     "text": [
      "\n",
      "Metadata: {'source': 'Wikipedia', 'id': '335464', 'title': 'Neurolinguistic programming'}\n",
      "Content Brief:\n"
     ]
    },
    {
     "data": {
      "text/markdown": [
       "Neurolinguistic programming is a way of communicating, created in the 1970s. It is often shortened to \"NLP\". The discipline assumes there is a link between neurological processes, language and behavior. According to NLP, it is possible to achieve certain goals in life by changing one's behaviour. Certain neuroscientists psychologists and linguists, believe that NLP is unsupported by current scientific evidence and that it uses incorrect and misleading terms and concepts. NLP was invented by Richard Bandler and John Grinder. According to these people, NLP can help solve problems such as phobias, depression, habit disorder, psychosomatic illnesses, and learning disorders."
      ],
      "text/plain": [
       "<IPython.core.display.Markdown object>"
      ]
     },
     "metadata": {},
     "output_type": "display_data"
    },
    {
     "name": "stdout",
     "output_type": "stream",
     "text": [
      "\n"
     ]
    }
   ],
   "source": [
    "query = \"what is nlp?\"\n",
    "top_docs = similarity_retriever.invoke(query)\n",
    "display_docs(top_docs)"
   ]
  },
  {
   "cell_type": "markdown",
   "id": "fef25532",
   "metadata": {},
   "source": [
    "### Multi Query Retrieval\n",
    "\n",
    "Retrieval may produce different results with subtle changes in query wording, or if the embeddings do not capture the semantics of the data well. Prompt engineering / tuning is sometimes done to manually address these problems, but can be tedious.\n",
    "\n",
    "The [`MultiQueryRetriever`](https://api.python.langchain.com/en/latest/retrievers/langchain.retrievers.multi_query.MultiQueryRetriever.html) automates the process of prompt tuning by using an LLM to generate multiple queries from different perspectives for a given user input query. For each query, it retrieves a set of relevant documents and takes the unique union across all queries to get a larger set of potentially relevant documents."
   ]
  },
  {
   "cell_type": "code",
   "execution_count": 23,
   "id": "b503fbf7",
   "metadata": {},
   "outputs": [],
   "source": [
    "from langchain_openai import ChatOpenAI\n",
    "\n",
    "chatgpt = ChatOpenAI(model_name=\"gpt-4o-mini\", temperature=0)"
   ]
  },
  {
   "cell_type": "code",
   "execution_count": 24,
   "id": "c60845ee",
   "metadata": {},
   "outputs": [],
   "source": [
    "from langchain.retrievers.multi_query import MultiQueryRetriever\n",
    "# Set logging for the queries\n",
    "import logging\n",
    "\n",
    "similarity_retriever = chroma_db.as_retriever(search_type=\"similarity\",\n",
    "                                              search_kwargs={\"k\": 3})\n",
    "\n",
    "mq_retriever = MultiQueryRetriever.from_llm(\n",
    "    retriever=similarity_retriever, llm=chatgpt\n",
    ")\n",
    "\n",
    "logging.basicConfig()\n",
    "# so we can see what queries are generated by the LLM\n",
    "logging.getLogger(\"langchain.retrievers.multi_query\").setLevel(logging.INFO)"
   ]
  },
  {
   "cell_type": "code",
   "execution_count": 25,
   "id": "b0ad0226",
   "metadata": {},
   "outputs": [
    {
     "name": "stderr",
     "output_type": "stream",
     "text": [
      "INFO:langchain.retrievers.multi_query:Generated queries: ['What does CNN stand for and what are its main functions?  ', 'Can you explain the concept and applications of convolutional neural networks?  ', 'What are the key features and uses of CNNs in machine learning?']\n"
     ]
    },
    {
     "name": "stdout",
     "output_type": "stream",
     "text": [
      "Metadata: {'source': 'Wikipedia', 'title': 'CNN', 'id': '3615'}\n",
      "Content Brief:\n"
     ]
    },
    {
     "data": {
      "text/markdown": [
       "The Cable News Network (CNN) is an American cable news television channel. It was founded in 1980 by Ted Turner. The Cable News Network first aired on television on June 1, 1980. The Cable News Network's first newscast was anchored (hosted) by David Walker and his wife Lois Hart. In its first year CNN hired many political analysts, including Rowland Evans and Robert Novak. On January 1, 1982 CNN launched a 24-hour sister newscast channel with no talk shows or commentary shows called CNN2. CNN broadcasts programs from its headquarters at the CNN Center in Atlanta, or from the Time Warner Center in New York City, or from studios in Washington, D.C., and Los Angeles. CNN is owned by Time Warner, and the U.S. news channel is a part of the Turner Broadcasting System. The hosts of its opinion shows are Don Lemon, Chris Cuomo, Fredricka Whitfield, Erin Burnett, Brianna Keiler and Brooke Baldwin. CNN has been criticized by the right-wing Media Research Center for having a left-wing bias. Accor"
      ],
      "text/plain": [
       "<IPython.core.display.Markdown object>"
      ]
     },
     "metadata": {},
     "output_type": "display_data"
    },
    {
     "name": "stdout",
     "output_type": "stream",
     "text": [
      "\n",
      "Metadata: {'source': 'Wikipedia', 'title': 'CNN', 'id': '3615'}\n",
      "Content Brief:\n"
     ]
    },
    {
     "data": {
      "text/markdown": [
       "The Cable News Network (CNN) is an American cable news television channel. It was founded in 1980 by Ted Turner. The Cable News Network first aired on television on June 1, 1980. The Cable News Network's first newscast was anchored (hosted) by David Walker and his wife Lois Hart. In its first year CNN hired many political analysts, including Rowland Evans and Robert Novak. On January 1, 1982 CNN launched a 24-hour sister newscast channel with no talk shows or commentary shows called CNN2. CNN broadcasts programs from its headquarters at the CNN Center in Atlanta, or from the Time Warner Center in New York City, or from studios in Washington, D.C., and Los Angeles. CNN is owned by Time Warner, and the U.S. news channel is a part of the Turner Broadcasting System. The hosts of its opinion shows are Don Lemon, Chris Cuomo, Fredricka Whitfield, Erin Burnett, Brianna Keiler and Brooke Baldwin. CNN has been criticized by the right-wing Media Research Center for having a left-wing bias. Accor"
      ],
      "text/plain": [
       "<IPython.core.display.Markdown object>"
      ]
     },
     "metadata": {},
     "output_type": "display_data"
    },
    {
     "name": "stdout",
     "output_type": "stream",
     "text": [
      "\n",
      "Metadata: {'title': 'CNN', 'source': 'Wikipedia', 'id': '3615'}\n",
      "Content Brief:\n"
     ]
    },
    {
     "data": {
      "text/markdown": [
       "The Cable News Network (CNN) is an American cable news television channel. It was founded in 1980 by Ted Turner. The Cable News Network first aired on television on June 1, 1980. The Cable News Network's first newscast was anchored (hosted) by David Walker and his wife Lois Hart. In its first year CNN hired many political analysts, including Rowland Evans and Robert Novak. On January 1, 1982 CNN launched a 24-hour sister newscast channel with no talk shows or commentary shows called CNN2. CNN broadcasts programs from its headquarters at the CNN Center in Atlanta, or from the Time Warner Center in New York City, or from studios in Washington, D.C., and Los Angeles. CNN is owned by Time Warner, and the U.S. news channel is a part of the Turner Broadcasting System. The hosts of its opinion shows are Don Lemon, Chris Cuomo, Fredricka Whitfield, Erin Burnett, Brianna Keiler and Brooke Baldwin. CNN has been criticized by the right-wing Media Research Center for having a left-wing bias. Accor"
      ],
      "text/plain": [
       "<IPython.core.display.Markdown object>"
      ]
     },
     "metadata": {},
     "output_type": "display_data"
    },
    {
     "name": "stdout",
     "output_type": "stream",
     "text": [
      "\n",
      "Metadata: {'creationDate': 'D:20151203014807Z', 'keywords': '', 'creator': 'LaTeX with hyperref package', 'producer': 'pdfTeX-1.40.12', 'format': 'PDF 1.5', 'page': 0, 'source': './rag_docs\\\\cnn_paper.pdf', 'moddate': '2015-12-03T01:48:07+00:00', 'title': '', 'trapped': '', 'modDate': 'D:20151203014807Z', 'subject': '', 'creationdate': '2015-12-03T01:48:07+00:00', 'file_path': './rag_docs\\\\cnn_paper.pdf', 'total_pages': 11, 'author': ''}\n",
      "Content Brief:\n"
     ]
    },
    {
     "data": {
      "text/markdown": [
       "An Introduction to Convolutional Neural Networks\n",
       "Keiron O’Shea1 and Ryan Nash2\n",
       "1 Department of Computer Science, Aberystwyth University, Ceredigion, SY23 3DB\n",
       "keo7@aber.ac.uk\n",
       "2 School of Computing and Communications, Lancaster University, Lancashire, LA1\n",
       "4YW\n",
       "nashrd@live.lancs.ac.uk\n",
       "Abstract. The ﬁeld of machine learning has taken a dramatic twist in re-\n",
       "cent times, with the rise of the Artiﬁcial Neural Network (ANN). These\n",
       "biologically inspired computational models are able to far exceed the per-\n",
       "formance of previous forms of artiﬁcial intelligence in common machine\n",
       "learning tasks. One of the most impressive forms of ANN architecture is\n",
       "that of the Convolutional Neural Network (CNN). CNNs are primarily\n",
       "used to solve difﬁcult image-driven pattern recognition tasks and with\n",
       "their precise yet simple architecture, offers a simpliﬁed method of getting\n",
       "started with ANNs.\n",
       "This document provides a brief introduction to CNNs, discussing recently\n",
       "published papers and newly formed techniques in de"
      ],
      "text/plain": [
       "<IPython.core.display.Markdown object>"
      ]
     },
     "metadata": {},
     "output_type": "display_data"
    },
    {
     "name": "stdout",
     "output_type": "stream",
     "text": [
      "\n",
      "Metadata: {'keywords': '', 'moddate': '2015-12-03T01:48:07+00:00', 'creationDate': 'D:20151203014807Z', 'producer': 'pdfTeX-1.40.12', 'total_pages': 11, 'page': 0, 'subject': '', 'source': './rag_docs\\\\cnn_paper.pdf', 'format': 'PDF 1.5', 'trapped': '', 'author': '', 'file_path': './rag_docs\\\\cnn_paper.pdf', 'modDate': 'D:20151203014807Z', 'title': '', 'creator': 'LaTeX with hyperref package', 'creationdate': '2015-12-03T01:48:07+00:00'}\n",
      "Content Brief:\n"
     ]
    },
    {
     "data": {
      "text/markdown": [
       "An Introduction to Convolutional Neural Networks\n",
       "Keiron O’Shea1 and Ryan Nash2\n",
       "1 Department of Computer Science, Aberystwyth University, Ceredigion, SY23 3DB\n",
       "keo7@aber.ac.uk\n",
       "2 School of Computing and Communications, Lancaster University, Lancashire, LA1\n",
       "4YW\n",
       "nashrd@live.lancs.ac.uk\n",
       "Abstract. The ﬁeld of machine learning has taken a dramatic twist in re-\n",
       "cent times, with the rise of the Artiﬁcial Neural Network (ANN). These\n",
       "biologically inspired computational models are able to far exceed the per-\n",
       "formance of previous forms of artiﬁcial intelligence in common machine\n",
       "learning tasks. One of the most impressive forms of ANN architecture is\n",
       "that of the Convolutional Neural Network (CNN). CNNs are primarily\n",
       "used to solve difﬁcult image-driven pattern recognition tasks and with\n",
       "their precise yet simple architecture, offers a simpliﬁed method of getting\n",
       "started with ANNs.\n",
       "This document provides a brief introduction to CNNs, discussing recently\n",
       "published papers and newly formed techniques in de"
      ],
      "text/plain": [
       "<IPython.core.display.Markdown object>"
      ]
     },
     "metadata": {},
     "output_type": "display_data"
    },
    {
     "name": "stdout",
     "output_type": "stream",
     "text": [
      "\n",
      "Metadata: {'author': '', 'page': 0, 'subject': '', 'trapped': '', 'producer': 'pdfTeX-1.40.12', 'creationdate': '2015-12-03T01:48:07+00:00', 'creationDate': 'D:20151203014807Z', 'total_pages': 11, 'format': 'PDF 1.5', 'keywords': '', 'source': './rag_docs\\\\cnn_paper.pdf', 'creator': 'LaTeX with hyperref package', 'title': '', 'file_path': './rag_docs\\\\cnn_paper.pdf', 'moddate': '2015-12-03T01:48:07+00:00', 'modDate': 'D:20151203014807Z'}\n",
      "Content Brief:\n"
     ]
    },
    {
     "data": {
      "text/markdown": [
       "An Introduction to Convolutional Neural Networks\n",
       "Keiron O’Shea1 and Ryan Nash2\n",
       "1 Department of Computer Science, Aberystwyth University, Ceredigion, SY23 3DB\n",
       "keo7@aber.ac.uk\n",
       "2 School of Computing and Communications, Lancaster University, Lancashire, LA1\n",
       "4YW\n",
       "nashrd@live.lancs.ac.uk\n",
       "Abstract. The ﬁeld of machine learning has taken a dramatic twist in re-\n",
       "cent times, with the rise of the Artiﬁcial Neural Network (ANN). These\n",
       "biologically inspired computational models are able to far exceed the per-\n",
       "formance of previous forms of artiﬁcial intelligence in common machine\n",
       "learning tasks. One of the most impressive forms of ANN architecture is\n",
       "that of the Convolutional Neural Network (CNN). CNNs are primarily\n",
       "used to solve difﬁcult image-driven pattern recognition tasks and with\n",
       "their precise yet simple architecture, offers a simpliﬁed method of getting\n",
       "started with ANNs.\n",
       "This document provides a brief introduction to CNNs, discussing recently\n",
       "published papers and newly formed techniques in de"
      ],
      "text/plain": [
       "<IPython.core.display.Markdown object>"
      ]
     },
     "metadata": {},
     "output_type": "display_data"
    },
    {
     "name": "stdout",
     "output_type": "stream",
     "text": [
      "\n",
      "Metadata: {'source': './rag_docs\\\\cnn_paper.pdf', 'title': '', 'creator': 'LaTeX with hyperref package', 'producer': 'pdfTeX-1.40.12', 'keywords': '', 'file_path': './rag_docs\\\\cnn_paper.pdf', 'total_pages': 11, 'modDate': 'D:20151203014807Z', 'creationDate': 'D:20151203014807Z', 'author': '', 'moddate': '2015-12-03T01:48:07+00:00', 'creationdate': '2015-12-03T01:48:07+00:00', 'page': 2, 'subject': '', 'format': 'PDF 1.5', 'trapped': ''}\n",
      "Content Brief:\n"
     ]
    },
    {
     "data": {
      "text/markdown": [
       "Introduction to Convolutional Neural Networks\n",
       "3\n",
       "more suited for image-focused tasks - whilst further reducing the parameters\n",
       "required to set up the model.\n",
       "One of the largest limitations of traditional forms of ANN is that they tend to\n",
       "struggle with the computational complexity required to compute image data.\n",
       "Common machine learning benchmarking datasets such as the MNIST database\n",
       "of handwritten digits are suitable for most forms of ANN, due to its relatively\n",
       "small image dimensionality of just 28 × 28. With this dataset a single neuron in\n",
       "the ﬁrst hidden layer will contain 784 weights (28×28×1 where 1 bare in mind\n",
       "that MNIST is normalised to just black and white values), which is manageable\n",
       "for most forms of ANN.\n",
       "If you consider a more substantial coloured image input of 64 × 64, the number\n",
       "of weights on just a single neuron of the ﬁrst layer increases substantially to\n",
       "12, 288. Also take into account that to deal with this scale of input, the network\n",
       "will also need to be a lot larger th"
      ],
      "text/plain": [
       "<IPython.core.display.Markdown object>"
      ]
     },
     "metadata": {},
     "output_type": "display_data"
    },
    {
     "name": "stdout",
     "output_type": "stream",
     "text": [
      "\n",
      "Metadata: {'title': '', 'moddate': '2015-12-03T01:48:07+00:00', 'author': '', 'keywords': '', 'page': 2, 'modDate': 'D:20151203014807Z', 'file_path': './rag_docs\\\\cnn_paper.pdf', 'creationDate': 'D:20151203014807Z', 'producer': 'pdfTeX-1.40.12', 'total_pages': 11, 'creator': 'LaTeX with hyperref package', 'creationdate': '2015-12-03T01:48:07+00:00', 'format': 'PDF 1.5', 'subject': '', 'source': './rag_docs\\\\cnn_paper.pdf', 'trapped': ''}\n",
      "Content Brief:\n"
     ]
    },
    {
     "data": {
      "text/markdown": [
       "Introduction to Convolutional Neural Networks\n",
       "3\n",
       "more suited for image-focused tasks - whilst further reducing the parameters\n",
       "required to set up the model.\n",
       "One of the largest limitations of traditional forms of ANN is that they tend to\n",
       "struggle with the computational complexity required to compute image data.\n",
       "Common machine learning benchmarking datasets such as the MNIST database\n",
       "of handwritten digits are suitable for most forms of ANN, due to its relatively\n",
       "small image dimensionality of just 28 × 28. With this dataset a single neuron in\n",
       "the ﬁrst hidden layer will contain 784 weights (28×28×1 where 1 bare in mind\n",
       "that MNIST is normalised to just black and white values), which is manageable\n",
       "for most forms of ANN.\n",
       "If you consider a more substantial coloured image input of 64 × 64, the number\n",
       "of weights on just a single neuron of the ﬁrst layer increases substantially to\n",
       "12, 288. Also take into account that to deal with this scale of input, the network\n",
       "will also need to be a lot larger th"
      ],
      "text/plain": [
       "<IPython.core.display.Markdown object>"
      ]
     },
     "metadata": {},
     "output_type": "display_data"
    },
    {
     "name": "stdout",
     "output_type": "stream",
     "text": [
      "\n",
      "Metadata: {'trapped': '', 'creator': 'LaTeX with hyperref package', 'title': '', 'modDate': 'D:20151203014807Z', 'creationdate': '2015-12-03T01:48:07+00:00', 'moddate': '2015-12-03T01:48:07+00:00', 'producer': 'pdfTeX-1.40.12', 'total_pages': 11, 'source': './rag_docs\\\\cnn_paper.pdf', 'author': '', 'keywords': '', 'format': 'PDF 1.5', 'creationDate': 'D:20151203014807Z', 'subject': '', 'file_path': './rag_docs\\\\cnn_paper.pdf', 'page': 2}\n",
      "Content Brief:\n"
     ]
    },
    {
     "data": {
      "text/markdown": [
       "Introduction to Convolutional Neural Networks\n",
       "3\n",
       "more suited for image-focused tasks - whilst further reducing the parameters\n",
       "required to set up the model.\n",
       "One of the largest limitations of traditional forms of ANN is that they tend to\n",
       "struggle with the computational complexity required to compute image data.\n",
       "Common machine learning benchmarking datasets such as the MNIST database\n",
       "of handwritten digits are suitable for most forms of ANN, due to its relatively\n",
       "small image dimensionality of just 28 × 28. With this dataset a single neuron in\n",
       "the ﬁrst hidden layer will contain 784 weights (28×28×1 where 1 bare in mind\n",
       "that MNIST is normalised to just black and white values), which is manageable\n",
       "for most forms of ANN.\n",
       "If you consider a more substantial coloured image input of 64 × 64, the number\n",
       "of weights on just a single neuron of the ﬁrst layer increases substantially to\n",
       "12, 288. Also take into account that to deal with this scale of input, the network\n",
       "will also need to be a lot larger th"
      ],
      "text/plain": [
       "<IPython.core.display.Markdown object>"
      ]
     },
     "metadata": {},
     "output_type": "display_data"
    },
    {
     "name": "stdout",
     "output_type": "stream",
     "text": [
      "\n"
     ]
    }
   ],
   "source": [
    "query = \"what is a cnn?\"\n",
    "top_docs = mq_retriever.invoke(query)\n",
    "display_docs(top_docs)"
   ]
  },
  {
   "cell_type": "code",
   "execution_count": 26,
   "id": "99c7293c",
   "metadata": {},
   "outputs": [
    {
     "name": "stderr",
     "output_type": "stream",
     "text": [
      "INFO:langchain.retrievers.multi_query:Generated queries: ['What does machine learning (ML) refer to, and how does it work?  ', 'Can you explain the concept of machine learning and its applications?  ', 'What are the key principles and techniques involved in machine learning?']\n"
     ]
    },
    {
     "name": "stdout",
     "output_type": "stream",
     "text": [
      "Metadata: {'id': '564928', 'title': 'Machine learning', 'source': 'Wikipedia'}\n",
      "Content Brief:\n"
     ]
    },
    {
     "data": {
      "text/markdown": [
       "Machine learning gives computers the ability to learn without being explicitly programmed (Arthur Samuel, 1959). It is a subfield of computer science. The idea came from work in artificial intelligence. Machine learning explores the study and construction of algorithms which can learn and make predictions on data. Such algorithms follow programmed instructions, but can also make predictions or decisions based on data. They build a model from sample inputs. Machine learning is done where designing and programming explicit algorithms cannot be done. Examples include spam filtering, detection of network intruders or malicious insiders working towards a data breach, optical character recognition (OCR), search engines and computer vision."
      ],
      "text/plain": [
       "<IPython.core.display.Markdown object>"
      ]
     },
     "metadata": {},
     "output_type": "display_data"
    },
    {
     "name": "stdout",
     "output_type": "stream",
     "text": [
      "\n",
      "Metadata: {'title': 'Machine learning', 'id': '564928', 'source': 'Wikipedia'}\n",
      "Content Brief:\n"
     ]
    },
    {
     "data": {
      "text/markdown": [
       "Machine learning gives computers the ability to learn without being explicitly programmed (Arthur Samuel, 1959). It is a subfield of computer science. The idea came from work in artificial intelligence. Machine learning explores the study and construction of algorithms which can learn and make predictions on data. Such algorithms follow programmed instructions, but can also make predictions or decisions based on data. They build a model from sample inputs. Machine learning is done where designing and programming explicit algorithms cannot be done. Examples include spam filtering, detection of network intruders or malicious insiders working towards a data breach, optical character recognition (OCR), search engines and computer vision."
      ],
      "text/plain": [
       "<IPython.core.display.Markdown object>"
      ]
     },
     "metadata": {},
     "output_type": "display_data"
    },
    {
     "name": "stdout",
     "output_type": "stream",
     "text": [
      "\n",
      "Metadata: {'id': '564928', 'title': 'Machine learning', 'source': 'Wikipedia'}\n",
      "Content Brief:\n"
     ]
    },
    {
     "data": {
      "text/markdown": [
       "Machine learning gives computers the ability to learn without being explicitly programmed (Arthur Samuel, 1959). It is a subfield of computer science. The idea came from work in artificial intelligence. Machine learning explores the study and construction of algorithms which can learn and make predictions on data. Such algorithms follow programmed instructions, but can also make predictions or decisions based on data. They build a model from sample inputs. Machine learning is done where designing and programming explicit algorithms cannot be done. Examples include spam filtering, detection of network intruders or malicious insiders working towards a data breach, optical character recognition (OCR), search engines and computer vision."
      ],
      "text/plain": [
       "<IPython.core.display.Markdown object>"
      ]
     },
     "metadata": {},
     "output_type": "display_data"
    },
    {
     "name": "stdout",
     "output_type": "stream",
     "text": [
      "\n"
     ]
    }
   ],
   "source": [
    "query = \"what is ML?\"\n",
    "top_docs = mq_retriever.invoke(query)\n",
    "display_docs(top_docs)"
   ]
  },
  {
   "cell_type": "code",
   "execution_count": 27,
   "id": "51648e85",
   "metadata": {},
   "outputs": [
    {
     "data": {
      "text/plain": [
       "3"
      ]
     },
     "execution_count": 27,
     "metadata": {},
     "output_type": "execute_result"
    }
   ],
   "source": [
    "len(top_docs)"
   ]
  },
  {
   "cell_type": "markdown",
   "id": "0547dcb2",
   "metadata": {},
   "source": [
    "### Contextual Compression Retrieval\n",
    "\n",
    "The information most relevant to a query may be buried in a document with a lot of irrelevant text. Passing that full document through your application can lead to more expensive LLM calls and poorer responses.\n",
    "\n",
    "Contextual compression is meant to fix this. The idea is simple: instead of immediately returning retrieved documents as-is, you can compress them using the context of the given query, so that only the relevant information is returned.\n",
    "\n",
    "This compression can happen in the form of:\n",
    "\n",
    "- Remove parts of the content of retrieved documents which are not relevant to the query. This is done by extracting only relevant parts of the document to the given query\n",
    "\n",
    "- Filter out documents which are not relevant to the given query but do not remove content from the document"
   ]
  },
  {
   "cell_type": "code",
   "execution_count": 28,
   "id": "e7681214",
   "metadata": {},
   "outputs": [],
   "source": [
    "from langchain.retrievers import ContextualCompressionRetriever\n",
    "from langchain.retrievers.document_compressors import LLMChainExtractor\n",
    "\n",
    "\n",
    "# extracts from each document only the content that is relevant to the query\n",
    "compressor = LLMChainExtractor.from_llm(llm=chatgpt)\n",
    "\n",
    "# retrieves the documents similar to query and then applies the compressor\n",
    "compression_retriever = ContextualCompressionRetriever(\n",
    "    base_compressor=compressor, base_retriever=mq_retriever\n",
    ")"
   ]
  },
  {
   "cell_type": "code",
   "execution_count": 29,
   "id": "5b621294",
   "metadata": {},
   "outputs": [
    {
     "name": "stderr",
     "output_type": "stream",
     "text": [
      "INFO:langchain.retrievers.multi_query:Generated queries: ['What does machine learning (ML) refer to in the field of artificial intelligence?  ', 'Can you explain the concept and applications of machine learning?  ', 'What are the key principles and techniques involved in machine learning?']\n"
     ]
    },
    {
     "name": "stdout",
     "output_type": "stream",
     "text": [
      "Metadata: {'source': 'Wikipedia', 'title': 'Machine learning', 'id': '564928'}\n",
      "Content Brief:\n"
     ]
    },
    {
     "data": {
      "text/markdown": [
       "Machine learning gives computers the ability to learn without being explicitly programmed (Arthur Samuel, 1959). It is a subfield of computer science. The idea came from work in artificial intelligence. Machine learning explores the study and construction of algorithms which can learn and make predictions on data. Such algorithms follow programmed instructions, but can also make predictions or decisions based on data. They build a model from sample inputs. Machine learning is done where designing and programming explicit algorithms cannot be done. Examples include spam filtering, detection of network intruders or malicious insiders working towards a data breach, optical character recognition (OCR), search engines and computer vision."
      ],
      "text/plain": [
       "<IPython.core.display.Markdown object>"
      ]
     },
     "metadata": {},
     "output_type": "display_data"
    },
    {
     "name": "stdout",
     "output_type": "stream",
     "text": [
      "\n",
      "Metadata: {'source': 'Wikipedia', 'id': '564928', 'title': 'Machine learning'}\n",
      "Content Brief:\n"
     ]
    },
    {
     "data": {
      "text/markdown": [
       "Machine learning gives computers the ability to learn without being explicitly programmed (Arthur Samuel, 1959). It is a subfield of computer science. The idea came from work in artificial intelligence. Machine learning explores the study and construction of algorithms which can learn and make predictions on data. Such algorithms follow programmed instructions, but can also make predictions or decisions based on data. They build a model from sample inputs. Machine learning is done where designing and programming explicit algorithms cannot be done. Examples include spam filtering, detection of network intruders or malicious insiders working towards a data breach, optical character recognition (OCR), search engines and computer vision."
      ],
      "text/plain": [
       "<IPython.core.display.Markdown object>"
      ]
     },
     "metadata": {},
     "output_type": "display_data"
    },
    {
     "name": "stdout",
     "output_type": "stream",
     "text": [
      "\n",
      "Metadata: {'source': 'Wikipedia', 'title': 'Machine learning', 'id': '564928'}\n",
      "Content Brief:\n"
     ]
    },
    {
     "data": {
      "text/markdown": [
       "Machine learning gives computers the ability to learn without being explicitly programmed (Arthur Samuel, 1959). It is a subfield of computer science. The idea came from work in artificial intelligence. Machine learning explores the study and construction of algorithms which can learn and make predictions on data. Such algorithms follow programmed instructions, but can also make predictions or decisions based on data. They build a model from sample inputs. Machine learning is done where designing and programming explicit algorithms cannot be done. Examples include spam filtering, detection of network intruders or malicious insiders working towards a data breach, optical character recognition (OCR), search engines and computer vision."
      ],
      "text/plain": [
       "<IPython.core.display.Markdown object>"
      ]
     },
     "metadata": {},
     "output_type": "display_data"
    },
    {
     "name": "stdout",
     "output_type": "stream",
     "text": [
      "\n"
     ]
    }
   ],
   "source": [
    "query = \"what is ML?\"\n",
    "top_docs = compression_retriever.invoke(query)\n",
    "display_docs(top_docs)"
   ]
  },
  {
   "cell_type": "markdown",
   "id": "643a56a6",
   "metadata": {},
   "source": [
    "## Build the RAG Pipeline"
   ]
  },
  {
   "cell_type": "code",
   "execution_count": 30,
   "id": "397e7c25",
   "metadata": {},
   "outputs": [],
   "source": [
    "from langchain_core.prompts import ChatPromptTemplate\n",
    "\n",
    "rag_prompt = \"\"\"You are an assistant who is an expert in question-answering tasks.\n",
    "                Answer the following question using only the following pieces of retrieved context.\n",
    "                If the answer is not in the context, do not make up answers, just say that you don't know.\n",
    "                Keep the answer detailed and well formatted based on the information from the context.\n",
    "\n",
    "                Question:\n",
    "                {question}\n",
    "\n",
    "                Context:\n",
    "                {context}\n",
    "\n",
    "                Answer:\n",
    "            \"\"\"\n",
    "\n",
    "rag_prompt_template = ChatPromptTemplate.from_template(rag_prompt)"
   ]
  },
  {
   "cell_type": "code",
   "execution_count": 31,
   "id": "6acf0ed6",
   "metadata": {},
   "outputs": [],
   "source": [
    "from langchain_core.runnables import RunnablePassthrough\n",
    "from langchain_openai import ChatOpenAI\n",
    "\n",
    "chatgpt = ChatOpenAI(model_name=\"gpt-4o-mini\", temperature=0)\n",
    "\n",
    "def format_docs(docs):\n",
    "    return \"\\n\\n\".join(doc.page_content for doc in docs)\n",
    "\n",
    "qa_rag_chain = (\n",
    "    {\n",
    "        \"context\": (similarity_retriever\n",
    "                      |\n",
    "                    format_docs),\n",
    "        \"question\": RunnablePassthrough()\n",
    "    }\n",
    "      |\n",
    "    rag_prompt_template\n",
    "      |\n",
    "    chatgpt\n",
    ")\n",
    "\n"
   ]
  },
  {
   "cell_type": "code",
   "execution_count": 32,
   "id": "0e793c15",
   "metadata": {},
   "outputs": [
    {
     "data": {
      "text/markdown": [
       "Machine learning is a subfield of computer science that provides computers with the ability to learn without being explicitly programmed, a concept first articulated by Arthur Samuel in 1959. It originated from research in artificial intelligence and focuses on the study and construction of algorithms capable of learning and making predictions based on data.\n",
       "\n",
       "Key aspects of machine learning include:\n",
       "\n",
       "- **Learning from Data**: Machine learning algorithms can learn from sample inputs and build models that allow them to make predictions or decisions based on new data.\n",
       "- **Algorithmic Flexibility**: While these algorithms follow programmed instructions, they also have the capability to adapt and improve their performance based on the data they process.\n",
       "- **Applications**: Machine learning is particularly useful in scenarios where it is difficult or impossible to design and program explicit algorithms. Common applications include:\n",
       "  - Spam filtering\n",
       "  - Detection of network intruders or malicious insiders\n",
       "  - Optical character recognition (OCR)\n",
       "  - Search engines\n",
       "  - Computer vision\n",
       "\n",
       "In summary, machine learning enables computers to improve their performance on tasks through experience, making it a powerful tool in various domains."
      ],
      "text/plain": [
       "<IPython.core.display.Markdown object>"
      ]
     },
     "metadata": {},
     "output_type": "display_data"
    }
   ],
   "source": [
    "from IPython.display import display, Markdown\n",
    "\n",
    "query = \"What is machine learning?\"\n",
    "result = qa_rag_chain.invoke(query)\n",
    "display(Markdown(result.content))"
   ]
  },
  {
   "cell_type": "code",
   "execution_count": 33,
   "id": "c71d7492",
   "metadata": {},
   "outputs": [
    {
     "data": {
      "text/markdown": [
       "I don't know."
      ],
      "text/plain": [
       "<IPython.core.display.Markdown object>"
      ]
     },
     "metadata": {},
     "output_type": "display_data"
    }
   ],
   "source": [
    "query = \"What do you know about Bharath?\"\n",
    "result = qa_rag_chain.invoke(query)\n",
    "display(Markdown(result.content))"
   ]
  },
  {
   "cell_type": "code",
   "execution_count": 34,
   "id": "d15d9a2a",
   "metadata": {},
   "outputs": [
    {
     "data": {
      "text/markdown": [
       "The Cable News Network (CNN) is an American cable news television channel that was founded in 1980 by Ted Turner. It first aired on television on June 1, 1980, with its inaugural newscast anchored by David Walker and his wife Lois Hart. In its first year, CNN hired several political analysts, including Rowland Evans and Robert Novak.\n",
       "\n",
       "On January 1, 1982, CNN launched a 24-hour sister newscast channel called CNN2, which did not feature talk shows or commentary shows. CNN broadcasts its programs from various locations, including its headquarters at the CNN Center in Atlanta, the Time Warner Center in New York City, and studios in Washington, D.C., and Los Angeles.\n",
       "\n",
       "CNN is owned by Time Warner and is part of the Turner Broadcasting System. The channel features opinion shows hosted by notable figures such as Don Lemon, Chris Cuomo, Fredricka Whitfield, Erin Burnett, Brianna Keiler, and Brooke Baldwin.\n",
       "\n",
       "CNN has faced criticism for perceived biases. The right-wing Media Research Center has accused it of having a left-wing bias, although it claims that CNN is less left-leaning than the news divisions of ABC, NBC, and CBS. Additionally, CNN has been criticized by some Arabs for having a pro-American bias."
      ],
      "text/plain": [
       "<IPython.core.display.Markdown object>"
      ]
     },
     "metadata": {},
     "output_type": "display_data"
    }
   ],
   "source": [
    "query = \"CNN\"\n",
    "result = qa_rag_chain.invoke(query)\n",
    "display(Markdown(result.content))"
   ]
  },
  {
   "cell_type": "code",
   "execution_count": 35,
   "id": "af881405",
   "metadata": {},
   "outputs": [
    {
     "data": {
      "text/plain": [
       "AIMessage(content='The Cable News Network (CNN) is an American cable news television channel that was founded in 1980 by Ted Turner. It first aired on television on June 1, 1980, with its inaugural newscast anchored by David Walker and his wife Lois Hart. In its first year, CNN hired several political analysts, including Rowland Evans and Robert Novak.\\n\\nOn January 1, 1982, CNN launched a 24-hour sister newscast channel called CNN2, which did not feature talk shows or commentary shows. CNN broadcasts its programs from various locations, including its headquarters at the CNN Center in Atlanta, the Time Warner Center in New York City, and studios in Washington, D.C., and Los Angeles.\\n\\nCNN is owned by Time Warner and is part of the Turner Broadcasting System. The channel features opinion shows hosted by notable figures such as Don Lemon, Chris Cuomo, Fredricka Whitfield, Erin Burnett, Brianna Keiler, and Brooke Baldwin.\\n\\nCNN has faced criticism for perceived biases. The right-wing Media Research Center has accused it of having a left-wing bias, although it claims that CNN is less left-leaning than the news divisions of ABC, NBC, and CBS. Additionally, CNN has been criticized by some Arabs for having a pro-American bias.', additional_kwargs={'refusal': None}, response_metadata={'token_usage': {'completion_tokens': 261, 'prompt_tokens': 871, 'total_tokens': 1132, 'completion_tokens_details': {'accepted_prediction_tokens': 0, 'audio_tokens': 0, 'reasoning_tokens': 0, 'rejected_prediction_tokens': 0}, 'prompt_tokens_details': {'audio_tokens': 0, 'cached_tokens': 0}}, 'model_name': 'gpt-4o-mini-2024-07-18', 'system_fingerprint': 'fp_560af6e559', 'id': 'chatcmpl-C6fgY4eRS9ZqKmrSViTgOqxmjk8tU', 'service_tier': 'default', 'finish_reason': 'stop', 'logprobs': None}, id='run--bdcdd291-1d0e-4597-969a-b3b456b03a07-0', usage_metadata={'input_tokens': 871, 'output_tokens': 261, 'total_tokens': 1132, 'input_token_details': {'audio': 0, 'cache_read': 0}, 'output_token_details': {'audio': 0, 'reasoning': 0}})"
      ]
     },
     "execution_count": 35,
     "metadata": {},
     "output_type": "execute_result"
    }
   ],
   "source": [
    "result"
   ]
  },
  {
   "cell_type": "markdown",
   "id": "24a9fcaa",
   "metadata": {},
   "source": [
    "## Rag With Sources"
   ]
  },
  {
   "cell_type": "code",
   "execution_count": 36,
   "id": "492fd340",
   "metadata": {},
   "outputs": [],
   "source": [
    "from langchain_core.runnables import RunnablePassthrough,RunnableLambda\n",
    "from langchain_openai import ChatOpenAI\n",
    "from langchain_core.output_parsers import StrOutputParser\n",
    "from operator import itemgetter\n",
    "\n",
    "chatgpt = ChatOpenAI(model_name=\"gpt-4o-mini\", temperature=0)\n",
    "\n",
    "def format_docs(docs):\n",
    "    return \"\\n\\n\".join(doc.page_content for doc in docs)\n",
    "\n",
    "src_rag_response_chain = (\n",
    "    {\n",
    "        \"context\": (itemgetter('context')\n",
    "                             |\n",
    "                    RunnableLambda(format_docs)         \n",
    "        ),\n",
    "        \"question\": itemgetter(\"question\")\n",
    "    }\n",
    "      |\n",
    "    rag_prompt_template\n",
    "      |\n",
    "    chatgpt\n",
    "      |\n",
    "    StrOutputParser()\n",
    ")\n",
    "\n",
    "rag_chain_w_sources=(\n",
    "    {\n",
    "        \"context\":similarity_retriever,\n",
    "        \"question\":RunnablePassthrough()\n",
    "    }\n",
    "    |\n",
    "    RunnablePassthrough.assign(response=src_rag_response_chain)\n",
    ")"
   ]
  },
  {
   "cell_type": "code",
   "execution_count": 37,
   "id": "f4f03422",
   "metadata": {},
   "outputs": [
    {
     "data": {
      "text/plain": [
       "{'context': [Document(id='0040f3f4-00d6-4232-bcd7-8aa06d88a759', metadata={'title': 'Machine learning', 'id': '564928', 'source': 'Wikipedia'}, page_content='Machine learning gives computers the ability to learn without being explicitly programmed (Arthur Samuel, 1959). It is a subfield of computer science. The idea came from work in artificial intelligence. Machine learning explores the study and construction of algorithms which can learn and make predictions on data. Such algorithms follow programmed instructions, but can also make predictions or decisions based on data. They build a model from sample inputs. Machine learning is done where designing and programming explicit algorithms cannot be done. Examples include spam filtering, detection of network intruders or malicious insiders working towards a data breach, optical character recognition (OCR), search engines and computer vision.'),\n",
       "  Document(id='713ce55d-845e-45d8-ade4-985d1cdac86a', metadata={'source': 'Wikipedia', 'id': '564928', 'title': 'Machine learning'}, page_content='Machine learning gives computers the ability to learn without being explicitly programmed (Arthur Samuel, 1959). It is a subfield of computer science. The idea came from work in artificial intelligence. Machine learning explores the study and construction of algorithms which can learn and make predictions on data. Such algorithms follow programmed instructions, but can also make predictions or decisions based on data. They build a model from sample inputs. Machine learning is done where designing and programming explicit algorithms cannot be done. Examples include spam filtering, detection of network intruders or malicious insiders working towards a data breach, optical character recognition (OCR), search engines and computer vision.'),\n",
       "  Document(id='21192d8f-444d-4393-820b-47cd28b55d41', metadata={'id': '564928', 'source': 'Wikipedia', 'title': 'Machine learning'}, page_content='Machine learning gives computers the ability to learn without being explicitly programmed (Arthur Samuel, 1959). It is a subfield of computer science. The idea came from work in artificial intelligence. Machine learning explores the study and construction of algorithms which can learn and make predictions on data. Such algorithms follow programmed instructions, but can also make predictions or decisions based on data. They build a model from sample inputs. Machine learning is done where designing and programming explicit algorithms cannot be done. Examples include spam filtering, detection of network intruders or malicious insiders working towards a data breach, optical character recognition (OCR), search engines and computer vision.')],\n",
       " 'question': 'What is machine learning',\n",
       " 'response': 'Machine learning is a subfield of computer science that provides computers with the ability to learn without being explicitly programmed, a concept first articulated by Arthur Samuel in 1959. It originated from research in artificial intelligence and focuses on the study and construction of algorithms capable of learning from data and making predictions.\\n\\nKey aspects of machine learning include:\\n\\n- **Learning from Data**: Machine learning algorithms can learn from sample inputs and build models that allow them to make predictions or decisions based on new data.\\n- **Algorithmic Flexibility**: While these algorithms follow programmed instructions, they also have the capability to adapt and improve their performance based on the data they process.\\n- **Applications**: Machine learning is particularly useful in scenarios where designing and programming explicit algorithms is impractical. Common applications include:\\n  - Spam filtering\\n  - Detection of network intruders or malicious insiders\\n  - Optical character recognition (OCR)\\n  - Search engines\\n  - Computer vision\\n\\nOverall, machine learning represents a significant advancement in how computers can process information and make decisions autonomously.'}"
      ]
     },
     "execution_count": 37,
     "metadata": {},
     "output_type": "execute_result"
    }
   ],
   "source": [
    "query = \"What is machine learning\"\n",
    "result=rag_chain_w_sources.invoke(query)\n",
    "result"
   ]
  },
  {
   "cell_type": "code",
   "execution_count": 38,
   "id": "4c879499",
   "metadata": {},
   "outputs": [
    {
     "data": {
      "text/plain": [
       "(dict_keys(['context', 'question', 'response']), list)"
      ]
     },
     "execution_count": 38,
     "metadata": {},
     "output_type": "execute_result"
    }
   ],
   "source": [
    "result.keys(),type(result[\"context\"])"
   ]
  },
  {
   "cell_type": "code",
   "execution_count": 39,
   "id": "320a4990",
   "metadata": {},
   "outputs": [],
   "source": [
    "query = \"What is machine learning\"\n",
    "result=rag_chain_w_sources.invoke(query)\n"
   ]
  },
  {
   "cell_type": "code",
   "execution_count": 40,
   "id": "343216c3",
   "metadata": {},
   "outputs": [],
   "source": [
    "from IPython.display import display, Markdown\n",
    "\n",
    "def display_output(result):\n",
    "    # Display question as a heading\n",
    "    display(Markdown(f\"### ❓ Question\\n\\n{result['question']}\"))\n",
    "\n",
    "    # Display response\n",
    "    display(Markdown(f\"### 💡 Answer\\n\\n{result['response']}\"))\n",
    "\n",
    "    # Display sources\n",
    "    display(Markdown(\"### 📚 Sources\\n\"))\n",
    "    for i, source in enumerate(result[\"context\"], 1):\n",
    "        md_text = f\"\"\"\n",
    "**Source {i}:**\n",
    "\n",
    "- **Metadata:**  \n",
    "  `{source.metadata}`  \n",
    "\n",
    "- **Content (Brief):**  \n",
    "  > {source.page_content[:400]}{'...' if len(source.page_content) > 400 else ''}\n",
    "\"\"\"\n",
    "        display(Markdown(md_text))\n"
   ]
  },
  {
   "cell_type": "code",
   "execution_count": 41,
   "id": "824b3cc9",
   "metadata": {},
   "outputs": [
    {
     "data": {
      "text/markdown": [
       "### ❓ Question\n",
       "\n",
       "What is machine learning"
      ],
      "text/plain": [
       "<IPython.core.display.Markdown object>"
      ]
     },
     "metadata": {},
     "output_type": "display_data"
    },
    {
     "data": {
      "text/markdown": [
       "### 💡 Answer\n",
       "\n",
       "Machine learning is a subfield of computer science that provides computers with the ability to learn without being explicitly programmed, a concept first articulated by Arthur Samuel in 1959. It originated from research in artificial intelligence and focuses on the study and construction of algorithms that can learn from and make predictions based on data.\n",
       "\n",
       "Key aspects of machine learning include:\n",
       "\n",
       "- **Learning from Data**: Machine learning algorithms build models from sample inputs, allowing them to make predictions or decisions based on new data.\n",
       "- **Algorithmic Flexibility**: While these algorithms follow programmed instructions, they also possess the capability to adapt and improve their performance over time without human intervention.\n",
       "- **Applications**: Machine learning is particularly useful in scenarios where designing and programming explicit algorithms is impractical. Common applications include:\n",
       "  - Spam filtering\n",
       "  - Detection of network intruders or malicious insiders\n",
       "  - Optical character recognition (OCR)\n",
       "  - Search engines\n",
       "  - Computer vision\n",
       "\n",
       "Overall, machine learning represents a significant advancement in how computers can process information and make decisions autonomously."
      ],
      "text/plain": [
       "<IPython.core.display.Markdown object>"
      ]
     },
     "metadata": {},
     "output_type": "display_data"
    },
    {
     "data": {
      "text/markdown": [
       "### 📚 Sources\n"
      ],
      "text/plain": [
       "<IPython.core.display.Markdown object>"
      ]
     },
     "metadata": {},
     "output_type": "display_data"
    },
    {
     "data": {
      "text/markdown": [
       "\n",
       "**Source 1:**\n",
       "\n",
       "- **Metadata:**  \n",
       "  `{'title': 'Machine learning', 'source': 'Wikipedia', 'id': '564928'}`  \n",
       "\n",
       "- **Content (Brief):**  \n",
       "  > Machine learning gives computers the ability to learn without being explicitly programmed (Arthur Samuel, 1959). It is a subfield of computer science. The idea came from work in artificial intelligence. Machine learning explores the study and construction of algorithms which can learn and make predictions on data. Such algorithms follow programmed instructions, but can also make predictions or dec...\n"
      ],
      "text/plain": [
       "<IPython.core.display.Markdown object>"
      ]
     },
     "metadata": {},
     "output_type": "display_data"
    },
    {
     "data": {
      "text/markdown": [
       "\n",
       "**Source 2:**\n",
       "\n",
       "- **Metadata:**  \n",
       "  `{'source': 'Wikipedia', 'title': 'Machine learning', 'id': '564928'}`  \n",
       "\n",
       "- **Content (Brief):**  \n",
       "  > Machine learning gives computers the ability to learn without being explicitly programmed (Arthur Samuel, 1959). It is a subfield of computer science. The idea came from work in artificial intelligence. Machine learning explores the study and construction of algorithms which can learn and make predictions on data. Such algorithms follow programmed instructions, but can also make predictions or dec...\n"
      ],
      "text/plain": [
       "<IPython.core.display.Markdown object>"
      ]
     },
     "metadata": {},
     "output_type": "display_data"
    },
    {
     "data": {
      "text/markdown": [
       "\n",
       "**Source 3:**\n",
       "\n",
       "- **Metadata:**  \n",
       "  `{'id': '564928', 'source': 'Wikipedia', 'title': 'Machine learning'}`  \n",
       "\n",
       "- **Content (Brief):**  \n",
       "  > Machine learning gives computers the ability to learn without being explicitly programmed (Arthur Samuel, 1959). It is a subfield of computer science. The idea came from work in artificial intelligence. Machine learning explores the study and construction of algorithms which can learn and make predictions on data. Such algorithms follow programmed instructions, but can also make predictions or dec...\n"
      ],
      "text/plain": [
       "<IPython.core.display.Markdown object>"
      ]
     },
     "metadata": {},
     "output_type": "display_data"
    }
   ],
   "source": [
    "display_output(result)"
   ]
  },
  {
   "cell_type": "code",
   "execution_count": null,
   "id": "1c026af5",
   "metadata": {},
   "outputs": [],
   "source": []
  }
 ],
 "metadata": {
  "kernelspec": {
   "display_name": "AV_env",
   "language": "python",
   "name": "python3"
  },
  "language_info": {
   "codemirror_mode": {
    "name": "ipython",
    "version": 3
   },
   "file_extension": ".py",
   "mimetype": "text/x-python",
   "name": "python",
   "nbconvert_exporter": "python",
   "pygments_lexer": "ipython3",
   "version": "3.11.7"
  }
 },
 "nbformat": 4,
 "nbformat_minor": 5
}
